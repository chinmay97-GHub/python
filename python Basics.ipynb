{
 "cells": [
  {
   "cell_type": "markdown",
   "metadata": {
    "id": "BnwhKeNWFM9y"
   },
   "source": [
    "# Variables\n",
    "**it is a location in the memory used to store data(value)**"
   ]
  },
  {
   "cell_type": "code",
   "execution_count": null,
   "metadata": {
    "id": "5z14mAyAFM92",
    "outputId": "7f113751-c61d-4360-f315-ce5e80087685"
   },
   "outputs": [
    {
     "name": "stdout",
     "output_type": "stream",
     "text": [
      "140729906799056\n"
     ]
    }
   ],
   "source": [
    "x=3\n",
    "\n",
    "print(id(x))"
   ]
  },
  {
   "cell_type": "code",
   "execution_count": null,
   "metadata": {
    "id": "T9KdneByFM98",
    "outputId": "7c672646-fac1-4d9a-bc11-ce3fc025feae",
    "scrolled": true
   },
   "outputs": [
    {
     "name": "stdout",
     "output_type": "stream",
     "text": [
      "140729906799056\n"
     ]
    }
   ],
   "source": [
    "y=3 \n",
    "\n",
    "print(id(y))\n",
    "\n",
    "'''x also points to same location and y also\n",
    "unless u change y value\n",
    "'''"
   ]
  },
  {
   "cell_type": "code",
   "execution_count": null,
   "metadata": {
    "id": "6PCNsXXbFM-A",
    "outputId": "46242450-fd3f-43fe-edef-ced0e3f1ef35",
    "scrolled": true
   },
   "outputs": [
    {
     "name": "stdout",
     "output_type": "stream",
     "text": [
      "140729906799024\n"
     ]
    }
   ],
   "source": [
    "y=2\n",
    "\n",
    "print(id(y))"
   ]
  },
  {
   "cell_type": "markdown",
   "metadata": {
    "id": "wjmeR6qZFM-D"
   },
   "source": [
    "# Data types"
   ]
  },
  {
   "cell_type": "code",
   "execution_count": null,
   "metadata": {
    "id": "jF26gPzSFM-F",
    "outputId": "98cad5fe-518c-49f9-ada7-fc958d8c90c8"
   },
   "outputs": [
    {
     "name": "stdout",
     "output_type": "stream",
     "text": [
      "4 is of type <class 'int'>\n"
     ]
    }
   ],
   "source": [
    "a=4\n",
    "\n",
    "print(a,'is of type',type(a))"
   ]
  },
  {
   "cell_type": "code",
   "execution_count": null,
   "metadata": {
    "id": "MPI6AVzSFM-J",
    "outputId": "42175256-ef76-42ee-f7e3-e742a63d96d5"
   },
   "outputs": [
    {
     "name": "stdout",
     "output_type": "stream",
     "text": [
      "(1+2j) is complex no?\n",
      "True\n"
     ]
    }
   ],
   "source": [
    "b=1+2j\n",
    "print(b,\"is complex no?\")\n",
    "print(isinstance(1+2j,complex)) #tells above conditions are true or false"
   ]
  },
  {
   "cell_type": "markdown",
   "metadata": {
    "id": "Z7rUqRfhFM-N"
   },
   "source": [
    "**Strings**"
   ]
  },
  {
   "cell_type": "code",
   "execution_count": 6,
   "metadata": {
    "id": "xiNHrn-IFM-O",
    "outputId": "f51683a9-246b-4c5c-be37-96c13e3a1cfc"
   },
   "outputs": [
    {
     "name": "stdout",
     "output_type": "stream",
     "text": [
      "d\n",
      "a\n"
     ]
    }
   ],
   "source": [
    "s=\"today is holiday\"\n",
    "print(s[2])  #Gives the letter in the index 2 (indexing starts from 0)\n",
    "print(s[-2]) #to get last word"
   ]
  },
  {
   "cell_type": "code",
   "execution_count": null,
   "metadata": {
    "id": "ddCnQjvZFM-S",
    "outputId": "e2de4a3e-1317-4db4-9b67-414454e5a932"
   },
   "outputs": [
    {
     "data": {
      "text/plain": [
       "'y is h'"
      ]
     },
     "execution_count": 16,
     "metadata": {
      "tags": []
     },
     "output_type": "execute_result"
    }
   ],
   "source": [
    "#slicing\n",
    "\n",
    "s[5:]#will print char from 5 index to end\n",
    "s[4:10]# it will not print the 10 char"
   ]
  },
  {
   "cell_type": "code",
   "execution_count": null,
   "metadata": {
    "id": "VhYXlA3sFM-V",
    "outputId": "f1a4ae1e-5c78-43cb-9dec-bb5d10af59a6"
   },
   "outputs": [
    {
     "name": "stdout",
     "output_type": "stream",
     "text": [
      "hello\n"
     ]
    }
   ],
   "source": [
    "# list--are mutable( we can change the items in list)\n",
    "# always written in square brackets\n",
    "\n",
    "a = [10,4.5,'hello']\n",
    "print(a[2])"
   ]
  },
  {
   "cell_type": "code",
   "execution_count": null,
   "metadata": {
    "id": "PiZphAUBFM-Y",
    "outputId": "52dd8be2-1311-41c2-cce1-169d0a3d9e0a"
   },
   "outputs": [
    {
     "name": "stdout",
     "output_type": "stream",
     "text": [
      "[10, 4.5, 'leave']\n"
     ]
    }
   ],
   "source": [
    "a[2]='leave'# altering list\n",
    "print(a)"
   ]
  },
  {
   "cell_type": "code",
   "execution_count": null,
   "metadata": {
    "id": "DWpyzkSpFM-c",
    "outputId": "6f952ef0-4586-4e1a-ebec-e7318b14eb69"
   },
   "outputs": [
    {
     "name": "stdout",
     "output_type": "stream",
     "text": [
      "(2, 4.6, 'FU')\n"
     ]
    }
   ],
   "source": [
    "#tuples--are immutable(channot be altered). written in rounded brackets\n",
    "\n",
    "t =( 2,4.6,'FU')\n",
    "print(t)"
   ]
  },
  {
   "cell_type": "code",
   "execution_count": null,
   "metadata": {
    "id": "8N1jpMbFFM-f",
    "outputId": "dd3050a7-8490-4c43-a5ae-b04b96101b09",
    "scrolled": true
   },
   "outputs": [],
   "source": [
    "t[0]=30\n",
    "print(t)\n",
    "# The above code will give error coz tuple are immutable"
   ]
  },
  {
   "cell_type": "code",
   "execution_count": 1,
   "metadata": {
    "colab": {
     "base_uri": "https://localhost:8080/",
     "height": 50
    },
    "executionInfo": {
     "elapsed": 2497,
     "status": "ok",
     "timestamp": 1601369984901,
     "user": {
      "displayName": "Dark Prime",
      "photoUrl": "",
      "userId": "01104006108460473382"
     },
     "user_tz": -330
    },
    "id": "omB1viwQFM-i",
    "outputId": "7331f6ab-51eb-41d2-cce0-49e2d2ebb902"
   },
   "outputs": [
    {
     "name": "stdout",
     "output_type": "stream",
     "text": [
      "<class 'set'>\n",
      "{10, 20, 55, 423}\n"
     ]
    }
   ],
   "source": [
    "#set--unordered collection of unique values\n",
    "\n",
    "s={10,20,20,423,55,55}\n",
    "print(type(s))\n",
    "print(s)\n",
    "# output will only show unique values,same values will not be repeated"
   ]
  },
  {
   "cell_type": "code",
   "execution_count": null,
   "metadata": {
    "id": "Y9n9COEEFM-m",
    "outputId": "38e55a18-cbca-4346-87c4-cac9f836b42e",
    "scrolled": false
   },
   "outputs": [],
   "source": [
    "# Below code will give an error Bcoz set doesn't support indexing bcoz it is unordered\n",
    "s[0]\n"
   ]
  },
  {
   "cell_type": "markdown",
   "metadata": {
    "id": "Zqg-85wOGU9g"
   },
   "source": [
    "## Dictionaries Syntax-(keys:value pair)\n",
    "A dictionary is a collection which is unordered, changeable and indexed.They have keys and value pair\n"
   ]
  },
  {
   "cell_type": "code",
   "execution_count": 1,
   "metadata": {
    "colab": {
     "base_uri": "https://localhost:8080/",
     "height": 34
    },
    "executionInfo": {
     "elapsed": 1554,
     "status": "ok",
     "timestamp": 1601370202502,
     "user": {
      "displayName": "Dark Prime",
      "photoUrl": "",
      "userId": "01104006108460473382"
     },
     "user_tz": -330
    },
    "id": "VDCkrn81FM-q",
    "outputId": "de4f9631-3fed-444d-9daf-e564449beb85"
   },
   "outputs": [],
   "source": [
    "books={\n",
    "    \"R\":480,\n",
    "    \"Python\":650,\n",
    "    \"PySpark\":450,\n",
    "    \"Scala\":780,\n",
    "    \"Basic Stats\":650\n",
    "}"
   ]
  },
  {
   "cell_type": "code",
   "execution_count": 2,
   "metadata": {},
   "outputs": [
    {
     "name": "stdout",
     "output_type": "stream",
     "text": [
      "{'R': 480, 'Python': 650, 'PySpark': 450, 'Basic Stats': 650}\n"
     ]
    }
   ],
   "source": [
    "#to delete a key or value\n",
    "del books['Scala']\n",
    "print(books)"
   ]
  },
  {
   "cell_type": "code",
   "execution_count": 3,
   "metadata": {},
   "outputs": [
    {
     "name": "stdout",
     "output_type": "stream",
     "text": [
      "{'R': 480, 'Python': 650, 'PySpark': 450, 'Basic Stats': 650, 'Hadoop': 434}\n"
     ]
    }
   ],
   "source": [
    "#add elements to the dictionary\n",
    "books[\"Hadoop\"]=434\n",
    "print(books)"
   ]
  },
  {
   "cell_type": "markdown",
   "metadata": {
    "id": "nXYZEh7zHfMg"
   },
   "source": [
    "# Conversions"
   ]
  },
  {
   "cell_type": "code",
   "execution_count": 4,
   "metadata": {
    "colab": {
     "base_uri": "https://localhost:8080/",
     "height": 67
    },
    "executionInfo": {
     "elapsed": 1533,
     "status": "ok",
     "timestamp": 1601370351934,
     "user": {
      "displayName": "Dark Prime",
      "photoUrl": "",
      "userId": "01104006108460473382"
     },
     "user_tz": -330
    },
    "id": "r3hBsRLSFM-t",
    "outputId": "6037a08f-7bd3-4514-c445-988714d599ed"
   },
   "outputs": [
    {
     "name": "stdout",
     "output_type": "stream",
     "text": [
      "5\n",
      "5.0\n",
      "Congratualation Chinmay u won 10000000 crores\n"
     ]
    }
   ],
   "source": [
    "print(int(5.6))\n",
    "print(float(5))\n",
    "\n",
    "user='Chinmay'\n",
    "lines = 10000000\n",
    "print(\"Congratualation \" + user + \" u won \"+str(lines)+\" crores\")# if u remove str it gives error\n"
   ]
  },
  {
   "cell_type": "code",
   "execution_count": 6,
   "metadata": {
    "colab": {
     "base_uri": "https://localhost:8080/",
     "height": 67
    },
    "executionInfo": {
     "elapsed": 1522,
     "status": "ok",
     "timestamp": 1601370426248,
     "user": {
      "displayName": "Dark Prime",
      "photoUrl": "",
      "userId": "01104006108460473382"
     },
     "user_tz": -330
    },
    "id": "xMUINoNzFM-x",
    "outputId": "82285759-f261-4d60-8e02-3ec17e1679ee"
   },
   "outputs": [
    {
     "name": "stdout",
     "output_type": "stream",
     "text": [
      "<class 'list'>\n",
      "<class 'set'>\n",
      "{1, 4, 5, 7, 8}\n"
     ]
    }
   ],
   "source": [
    "# convert one sequence to another\n",
    " \n",
    "a = [1,7,8,4,5]\n",
    "print(type(a))\n",
    "s=set(a) #convert list to set with set()method\n",
    "print(type(s))\n",
    "print(s)"
   ]
  },
  {
   "cell_type": "code",
   "execution_count": 7,
   "metadata": {
    "colab": {
     "base_uri": "https://localhost:8080/",
     "height": 34
    },
    "executionInfo": {
     "elapsed": 1401,
     "status": "ok",
     "timestamp": 1601370491529,
     "user": {
      "displayName": "Dark Prime",
      "photoUrl": "",
      "userId": "01104006108460473382"
     },
     "user_tz": -330
    },
    "id": "ZPtsO9x4FM-2",
    "outputId": "f21c65fd-b8d5-45e1-d08e-a97b4ee0ecb8"
   },
   "outputs": [
    {
     "data": {
      "text/plain": [
       "['C', 'h', 'i', 'n', 'm', 'a', 'y']"
      ]
     },
     "execution_count": 7,
     "metadata": {
      "tags": []
     },
     "output_type": "execute_result"
    }
   ],
   "source": [
    "list('Chinmay')#string to list"
   ]
  },
  {
   "cell_type": "markdown",
   "metadata": {
    "id": "LG7tchqpFM-6"
   },
   "source": [
    "# Output formatting\n"
   ]
  },
  {
   "cell_type": "code",
   "execution_count": 10,
   "metadata": {
    "colab": {
     "base_uri": "https://localhost:8080/",
     "height": 84
    },
    "executionInfo": {
     "elapsed": 1516,
     "status": "ok",
     "timestamp": 1601370771499,
     "user": {
      "displayName": "Dark Prime",
      "photoUrl": "",
      "userId": "01104006108460473382"
     },
     "user_tz": -330
    },
    "id": "QFcwrjxeFM-6",
    "outputId": "65d6a61e-a86e-4aa2-f1cf-1d22c52262e9"
   },
   "outputs": [
    {
     "name": "stdout",
     "output_type": "stream",
     "text": [
      "The value of q is 1 and w is 4\n",
      "The value of w is 4 and q is 1\n",
      "Hello Chinmay,whassup\n",
      "Do u know the story of Tommy ,Arthur and John\n"
     ]
    }
   ],
   "source": [
    "q=1;w=4\n",
    "\n",
    "print(\"The value of q is {} and w is {}\".format(q,w))\n",
    "# we can also specify position\n",
    "print(\"The value of w is {1} and q is {0}\".format(q,w))\n",
    "print(\"Hello {name},{greeting}\".format(name='Chinmay', greeting=\"whassup\"))\n",
    "print(\"Do u know the story of {0} {1} and {other}\".format('Tommy',',Arthur',other='John'))"
   ]
  },
  {
   "cell_type": "markdown",
   "metadata": {
    "id": "aj1G6N0bFM-9"
   },
   "source": [
    "**Inputing Values**"
   ]
  },
  {
   "cell_type": "code",
   "execution_count": 11,
   "metadata": {
    "colab": {
     "base_uri": "https://localhost:8080/",
     "height": 50
    },
    "executionInfo": {
     "elapsed": 11170,
     "status": "ok",
     "timestamp": 1601370871730,
     "user": {
      "displayName": "Dark Prime",
      "photoUrl": "",
      "userId": "01104006108460473382"
     },
     "user_tz": -330
    },
    "id": "vLcJiPw-FM--",
    "outputId": "752c2b67-c8ff-43ba-e057-1ea38e44abf9",
    "scrolled": true
   },
   "outputs": [
    {
     "name": "stdout",
     "output_type": "stream",
     "text": [
      "enter a number:23\n",
      "23\n"
     ]
    }
   ],
   "source": [
    "num = input('enter a number:')\n",
    "print(num)"
   ]
  },
  {
   "cell_type": "markdown",
   "metadata": {
    "id": "_WAOmeLeFM_B"
   },
   "source": [
    "# operators"
   ]
  },
  {
   "cell_type": "code",
   "execution_count": 16,
   "metadata": {
    "colab": {
     "base_uri": "https://localhost:8080/",
     "height": 67
    },
    "executionInfo": {
     "elapsed": 1950,
     "status": "ok",
     "timestamp": 1601371072625,
     "user": {
      "displayName": "Dark Prime",
      "photoUrl": "",
      "userId": "01104006108460473382"
     },
     "user_tz": -330
    },
    "id": "FjGcCWmeFM_C",
    "outputId": "fda15842-d62b-45b2-8b9e-5b636e2a4e44"
   },
   "outputs": [
    {
     "name": "stdout",
     "output_type": "stream",
     "text": [
      "30\n",
      "2\n",
      "-3\n"
     ]
    }
   ],
   "source": [
    "#special symbol in pyhon which carry out arithmatic and logical operations\n",
    "'''operand--The value on which the \n",
    "   operator operates\n",
    "'''\n",
    "\n",
    "x,y=10,20\n",
    "\n",
    "#addition\n",
    "print(x+y)\n",
    "'''modulo division = % \n",
    "   floor division = //\n",
    "   exponent = ** \n",
    "   division = /\n",
    "'''\n",
    "print(5//2) #gives closest no (rounding off)\n",
    "print(-5//2) #gives closest -ve no "
   ]
  },
  {
   "cell_type": "code",
   "execution_count": 18,
   "metadata": {
    "colab": {
     "base_uri": "https://localhost:8080/",
     "height": 50
    },
    "executionInfo": {
     "elapsed": 1585,
     "status": "ok",
     "timestamp": 1601371165727,
     "user": {
      "displayName": "Dark Prime",
      "photoUrl": "",
      "userId": "01104006108460473382"
     },
     "user_tz": -330
    },
    "id": "gkolPNgwFM_F",
    "outputId": "c5a72030-ef7a-4d42-df65-32c723e86881"
   },
   "outputs": [
    {
     "name": "stdout",
     "output_type": "stream",
     "text": [
      "False\n",
      "False\n"
     ]
    }
   ],
   "source": [
    "# comparison operator\n",
    "# < , > , == , (!=)not equal , >= , <=\n",
    "print(x>y)\n",
    "print(x==y)"
   ]
  },
  {
   "cell_type": "code",
   "execution_count": null,
   "metadata": {
    "id": "RZFJSRnMFM_I",
    "outputId": "2b1b28a5-533b-4b7c-b3ba-31319df5bbd0"
   },
   "outputs": [
    {
     "name": "stdout",
     "output_type": "stream",
     "text": [
      "False\n",
      "True\n"
     ]
    }
   ],
   "source": [
    "#logical operator---(and,or,not)\n",
    "\n",
    "a,b = True,False\n",
    "print(a and b)\n",
    "print(a or b)"
   ]
  },
  {
   "cell_type": "code",
   "execution_count": 25,
   "metadata": {
    "colab": {
     "base_uri": "https://localhost:8080/",
     "height": 34
    },
    "executionInfo": {
     "elapsed": 1409,
     "status": "ok",
     "timestamp": 1601375421212,
     "user": {
      "displayName": "Dark Prime",
      "photoUrl": "",
      "userId": "01104006108460473382"
     },
     "user_tz": -330
    },
    "id": "YAq4s982FM_M",
    "outputId": "06cc5199-01cb-4632-fa4e-65c1224e206d"
   },
   "outputs": [
    {
     "name": "stdout",
     "output_type": "stream",
     "text": [
      "4\n"
     ]
    }
   ],
   "source": [
    "# bitwise operator it operates bit by bit say(10=1010)\n",
    "\n",
    "'''and = &\n",
    "   or = |\n",
    "   not = ~\n",
    "   xor = ^ -Sets each bit to 1 if only one of two bits is 1\n",
    "   rightshift = >>\n",
    "   leftshift = >>\n",
    "   '''\n",
    "a,b=7,4\n",
    "print(a & b)\n",
    "#print(a | b)"
   ]
  },
  {
   "cell_type": "code",
   "execution_count": 30,
   "metadata": {
    "colab": {
     "base_uri": "https://localhost:8080/",
     "height": 34
    },
    "executionInfo": {
     "elapsed": 1865,
     "status": "ok",
     "timestamp": 1601375519042,
     "user": {
      "displayName": "Dark Prime",
      "photoUrl": "",
      "userId": "01104006108460473382"
     },
     "user_tz": -330
    },
    "id": "V2Us8sjWFM_P",
    "outputId": "d826229b-b762-4b47-edaf-01233e998903"
   },
   "outputs": [
    {
     "name": "stdout",
     "output_type": "stream",
     "text": [
      "3\n"
     ]
    }
   ],
   "source": [
    "#Assignment operator\n",
    "\n",
    "#         =, += ,-= ,/= ,//=,*= ,**=,&= ,|=\n",
    "a=1\n",
    "a+=2\n",
    "print(a)"
   ]
  },
  {
   "cell_type": "markdown",
   "metadata": {
    "id": "fNXtWBJHFM_T"
   },
   "source": [
    "# function\n"
   ]
  },
  {
   "cell_type": "code",
   "execution_count": 36,
   "metadata": {
    "executionInfo": {
     "elapsed": 1425,
     "status": "ok",
     "timestamp": 1601375692049,
     "user": {
      "displayName": "Dark Prime",
      "photoUrl": "",
      "userId": "01104006108460473382"
     },
     "user_tz": -330
    },
    "id": "ctbw2-TIFM_U"
   },
   "outputs": [],
   "source": [
    "def print_name(name):\n",
    "    '''(this function prints the name)\n",
    "    '''\n",
    "    print('Hello '+str(name))"
   ]
  },
  {
   "cell_type": "code",
   "execution_count": 35,
   "metadata": {
    "colab": {
     "base_uri": "https://localhost:8080/",
     "height": 34
    },
    "executionInfo": {
     "elapsed": 1408,
     "status": "ok",
     "timestamp": 1601375680371,
     "user": {
      "displayName": "Dark Prime",
      "photoUrl": "",
      "userId": "01104006108460473382"
     },
     "user_tz": -330
    },
    "id": "HJLxJWxAFM_X",
    "outputId": "efd81c9d-9c3a-4294-f5d7-863937d4af1e"
   },
   "outputs": [
    {
     "name": "stdout",
     "output_type": "stream",
     "text": [
      "Hello Chinmay\n"
     ]
    }
   ],
   "source": [
    "print_name('Chinmay')"
   ]
  },
  {
   "cell_type": "markdown",
   "metadata": {
    "id": "dbm9HLTvFM_c"
   },
   "source": [
    "# DocString\n",
    "\n",
    "Docstring = documentation string\n",
    "\n",
    "* used to show the use of the method,or function\n",
    "\n",
    "* its is written in triple quotes(''' Hello ''')\n"
   ]
  },
  {
   "cell_type": "code",
   "execution_count": 37,
   "metadata": {
    "colab": {
     "base_uri": "https://localhost:8080/",
     "height": 50
    },
    "executionInfo": {
     "elapsed": 1576,
     "status": "ok",
     "timestamp": 1601375870165,
     "user": {
      "displayName": "Dark Prime",
      "photoUrl": "",
      "userId": "01104006108460473382"
     },
     "user_tz": -330
    },
    "id": "IhHHGrEBFM_d",
    "outputId": "d99a8762-6de4-4ee8-aa96-7d9b7b0751da"
   },
   "outputs": [
    {
     "name": "stdout",
     "output_type": "stream",
     "text": [
      "(this function prints the name)\n",
      "    \n"
     ]
    }
   ],
   "source": [
    "print(print_name.__doc__) # to see the docstring of any function"
   ]
  },
  {
   "cell_type": "markdown",
   "metadata": {
    "id": "jjgNe4ybFM_g"
   },
   "source": [
    "# return\n",
    "\n",
    "return statement is used to exit a function and go back to place where it was started"
   ]
  },
  {
   "cell_type": "code",
   "execution_count": 39,
   "metadata": {
    "executionInfo": {
     "elapsed": 1664,
     "status": "ok",
     "timestamp": 1601375961393,
     "user": {
      "displayName": "Dark Prime",
      "photoUrl": "",
      "userId": "01104006108460473382"
     },
     "user_tz": -330
    },
    "id": "cV00rF_dFM_h"
   },
   "outputs": [],
   "source": [
    "def get_sum(lst):\n",
    "    '''\n",
    "    This function returns the sum of all the elements in the list\n",
    "    '''\n",
    "    #initialise sum\n",
    "    _sum = 0\n",
    "    \n",
    "    #iterating over the list\n",
    "    for num in lst:\n",
    "        _sum += num\n",
    "    return _sum"
   ]
  },
  {
   "cell_type": "code",
   "execution_count": 40,
   "metadata": {
    "colab": {
     "base_uri": "https://localhost:8080/",
     "height": 84
    },
    "executionInfo": {
     "elapsed": 1518,
     "status": "ok",
     "timestamp": 1601375972683,
     "user": {
      "displayName": "Dark Prime",
      "photoUrl": "",
      "userId": "01104006108460473382"
     },
     "user_tz": -330
    },
    "id": "nVx-olnKFM_k",
    "outputId": "aac107cf-ee73-4222-e299-839a64696f8e"
   },
   "outputs": [
    {
     "name": "stdout",
     "output_type": "stream",
     "text": [
      "10\n",
      "\n",
      "    This function returns the sum of all the elements in the list\n",
      "    \n"
     ]
    }
   ],
   "source": [
    "s = get_sum([1,2,3,4])\n",
    "print(s)\n",
    "\n",
    "print(get_sum.__doc__) #DocString"
   ]
  },
  {
   "cell_type": "markdown",
   "metadata": {
    "id": "Ys_Ce4tleT8-"
   },
   "source": [
    "# Variable defined inside a fn and outside a fn"
   ]
  },
  {
   "cell_type": "code",
   "execution_count": 45,
   "metadata": {
    "colab": {
     "base_uri": "https://localhost:8080/",
     "height": 67
    },
    "executionInfo": {
     "elapsed": 1461,
     "status": "ok",
     "timestamp": 1601376419976,
     "user": {
      "displayName": "Dark Prime",
      "photoUrl": "",
      "userId": "01104006108460473382"
     },
     "user_tz": -330
    },
    "id": "B2sP1XyEFM_n",
    "outputId": "d6a9cc59-06b0-4373-a737-63bab1587e9b"
   },
   "outputs": [
    {
     "name": "stdout",
     "output_type": "stream",
     "text": [
      "This is a local variable\n",
      "This is global variable\n",
      "This is global variable\n"
     ]
    }
   ],
   "source": [
    "# variable defined inside a fn and outside a fn\n",
    "global_var = 'This is global variable'\n",
    "\n",
    "def test_life_time():\n",
    "    '''This fn test the lifetime of a variable '''\n",
    "    local_var = 'This is a local variable'\n",
    "    \n",
    "    print(local_var)\n",
    "    print(global_var)\n",
    "    \n",
    "#calling fn\n",
    "test_life_time()\n",
    "\n",
    "#print(local_var)  #it will give error bcaoz local_var is defined inside the fn\n",
    "\n",
    "\n",
    "print(global_var)# this will not giv error coz it is defined outside the fn"
   ]
  },
  {
   "cell_type": "code",
   "execution_count": 4,
   "metadata": {
    "id": "VHFS13MPFM_1"
   },
   "outputs": [],
   "source": [
    "# filter()\n",
    "\n",
    "def find_positive_number(num):\n",
    "    '''This fn return +ve no. if num is +ve\n",
    "    '''\n",
    "    if num>0:\n",
    "        return num\n",
    "\n",
    "def negative_number(no):\n",
    "    '''This is for -ve number\n",
    "    '''\n",
    "    if no < 0:\n",
    "        return no"
   ]
  },
  {
   "cell_type": "code",
   "execution_count": 5,
   "metadata": {
    "id": "ntw2_afYFM_5",
    "outputId": "3064b26b-f8af-4245-ae2a-3662a0146793"
   },
   "outputs": [
    {
     "name": "stdout",
     "output_type": "stream",
     "text": [
      "[-10, -9, -8, -7, -6, -5, -4, -3, -2, -1, 0, 1, 2, 3, 4, 5, 6, 7, 8, 9]\n",
      "[1, 2, 3, 4, 5, 6, 7, 8, 9]\n",
      "[-10, -9, -8, -7, -6, -5, -4, -3, -2, -1]\n"
     ]
    }
   ],
   "source": [
    "num_lst= range(-10,10)\n",
    "print(list(num_lst))\n",
    "\n",
    "positive_num_list = list(filter(find_positive_number,num_lst))\n",
    "print(positive_num_list)\n",
    "\n",
    "negative_num_list = list(filter(negative_number,num_lst))\n",
    "print(negative_num_list) "
   ]
  },
  {
   "cell_type": "code",
   "execution_count": null,
   "metadata": {
    "id": "zQV0WniMFM_-",
    "outputId": "4fa7400e-0933-4e57-8a3c-021584a3ee6f"
   },
   "outputs": [
    {
     "name": "stdout",
     "output_type": "stream",
     "text": [
      "[1, 4, 9, 16]\n"
     ]
    }
   ],
   "source": [
    "# map()--applies a fn to all the items in an input_list\n",
    "\n",
    "numbers = [1,2,3,4]\n",
    "\n",
    "def PowerOftwo(num):\n",
    "    return num ** 2\n",
    "# using map() fn\n",
    "squared = list(map(powerOftwo, numbers))\n",
    "print(squared)\n"
   ]
  },
  {
   "cell_type": "code",
   "execution_count": null,
   "metadata": {
    "id": "hm-sf4WMFNAD",
    "outputId": "821e69cd-3880-4d98-af07-21bd3e958186"
   },
   "outputs": [
    {
     "name": "stdout",
     "output_type": "stream",
     "text": [
      "24\n"
     ]
    }
   ],
   "source": [
    "# reduce()\n",
    "'''It is a function that implements a mathematical technique called folding or reduction. \n",
    "reduce() is useful when you need to apply a function to an iterable and reduce it to a single cumulative value.\n",
    "'''\n",
    "from functools import reduce\n",
    "lst=[1,2,3,4]\n",
    "def multiply(x,y):\n",
    "    return x*y;\n",
    "product=reduce(multiply,lst)\n",
    "print(product)"
   ]
  },
  {
   "cell_type": "code",
   "execution_count": null,
   "metadata": {
    "id": "CaSNiJanFNAH",
    "outputId": "c9497bac-82c7-47fd-e32e-5fcbf1d7d226"
   },
   "outputs": [
    {
     "name": "stdout",
     "output_type": "stream",
     "text": [
      "20\n"
     ]
    }
   ],
   "source": [
    "#lambda fn= its is fn that is defined without a name\n",
    "#fn name = keyword arg: formula\n",
    "double = lambda x: x * 2\n",
    "\n",
    "print(double(10))"
   ]
  },
  {
   "cell_type": "code",
   "execution_count": null,
   "metadata": {
    "id": "1tukrwxuFNAJ",
    "outputId": "272c2df4-6fe6-40d4-f675-c6fbdb8dfed6"
   },
   "outputs": [
    {
     "name": "stdout",
     "output_type": "stream",
     "text": [
      "[2, 4, 6]\n"
     ]
    }
   ],
   "source": [
    "#lambda fn using filter()\n",
    "\n",
    "lst = [1,2,3,4,5,6,7]\n",
    "evenLst = list(filter(lambda x: (x%2==0),lst))\n",
    "print(evenLst)"
   ]
  },
  {
   "cell_type": "code",
   "execution_count": null,
   "metadata": {
    "id": "O04nrCorFNAN",
    "outputId": "81662727-4be8-4ee3-8897-83c2b4130e61"
   },
   "outputs": [
    {
     "name": "stdout",
     "output_type": "stream",
     "text": [
      "[1, 4, 9, 16, 25]\n"
     ]
    }
   ],
   "source": [
    "# lambda fn using map()\n",
    "lst = [1,2,3,4,5]\n",
    "newLst = list(map(lambda x: x**2,lst))\n",
    "print(newLst)"
   ]
  },
  {
   "cell_type": "code",
   "execution_count": null,
   "metadata": {
    "id": "B22-a_dAFNAR",
    "outputId": "a519c177-eeb8-424a-8d8f-c48910be3e40"
   },
   "outputs": [
    {
     "name": "stdout",
     "output_type": "stream",
     "text": [
      "24\n"
     ]
    }
   ],
   "source": [
    "# lambda fn using reduce()\n",
    "from functools import reduce\n",
    "\n",
    "Lst = [1,2,3,4]\n",
    "prod_lst = reduce(lambda x,y:x*y,Lst)\n",
    "print(prod_lst)"
   ]
  }
 ],
 "metadata": {
  "colab": {
   "collapsed_sections": [],
   "name": "python Beginner.ipynb",
   "provenance": []
  },
  "kernelspec": {
   "display_name": "Python 3",
   "language": "python",
   "name": "python3"
  },
  "language_info": {
   "codemirror_mode": {
    "name": "ipython",
    "version": 3
   },
   "file_extension": ".py",
   "mimetype": "text/x-python",
   "name": "python",
   "nbconvert_exporter": "python",
   "pygments_lexer": "ipython3",
   "version": "3.7.4"
  }
 },
 "nbformat": 4,
 "nbformat_minor": 1
}
